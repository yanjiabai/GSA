{
 "cells": [
  {
   "cell_type": "code",
   "execution_count": 22,
   "id": "cb37650f",
   "metadata": {},
   "outputs": [],
   "source": [
    "\"\"\" Template for GSA prediction exercise \"\"\"\n",
    "\n",
    "import numpy as np\n",
    "import pandas as pd\n",
    "from pmdarima import auto_arima\n",
    "from statsmodels.tsa.statespace.varmax import VARMAX\n",
    "import warnings\n",
    "import time\n",
    "import pickle\n",
    "\n",
    "from calculate_returns import get_dates, cal_returns\n",
    "from tests import test_adf, cointegration_test\n",
    "\n",
    "def modelEstimate(trainingFilename):\n",
    "    \"\"\"\n",
    "    Fit a model using historical data.\n",
    "\n",
    "    Args:\n",
    "        trainingFilename (str): path to training data. The data will\n",
    "            be in the same format as the supplied `data.csv` file\n",
    "\n",
    "    Returns:\n",
    "        parameters (any): fitted model and any additional parameters\n",
    "            you need to pass to modelForecast\n",
    "\n",
    "    \"\"\"\n",
    "    train = pd.read_csv(trainingFilename)\n",
    "    # calculate the returns of X using the underlying method of calculating 'returns'\n",
    "    get_dates(train, 'timestamp')\n",
    "    yreturns = cal_returns(train, 'date', 'yprice')\n",
    "    if sum(train['returns'] != yreturns)>0:\n",
    "        print(sum(train['returns'] != yreturns))\n",
    "        raise ValueError('The given data set uses a different method to calculate returns!')\n",
    "    else:\n",
    "        print('The method to calculate xreturns seems to be the same as the underlying method to calculate returns.')\n",
    "    train['xreturns'] = cal_returns(train, 'date', 'xprice')\n",
    "    print('before testing')\n",
    "    # test stationarity of returns and xreturns\n",
    "    # p-value threshold = 0.05\n",
    "    if test_adf(train['xreturns']) > 0.05:\n",
    "        raise ValueError('The calculated returns of X is not stationary (ADF test)!')\n",
    "    else:\n",
    "        print('The calculated xreturns passes the ADF test.')\n",
    "    if test_adf(train['returns']) > 0.05:\n",
    "        raise ValueError('The given returns of Y is not stationary (ADF test)!')\n",
    "    else:\n",
    "        print('The given returns passes the ADF test.')\n",
    "    print('after testing')\n",
    "    df = train[['returns', 'xreturns']] # the given train set, to be splitted into train_df and val_df\n",
    "    train_size = int(df.shape[0] * 0.8)\n",
    "    train_df = df[0:train_size] # train set \n",
    "    val_df = df[train_size:].reset_index(drop=True) # validation set\n",
    "    print('df defined')\n",
    "    # check results of Johansen cointegration test\n",
    "    if cointegration_test(df) == False:\n",
    "        raise ValueError('The dataframe [\"returns\", \"xreturns\"] does not pass the Johansen cointegration test!')\n",
    "    else:\n",
    "        print('The df [\"returns\", \"xreturns\"] passes the Johansen cointegration test.')\n",
    "    \n",
    "    # get possible p, q values from auto_arima stepwise model\n",
    "    # note that I set d=0, assuming stationary data (verified above by ADF test)\n",
    "    pq = [] \n",
    "    for name, column in train_df.iteritems():\n",
    "        print(f'In auto_arima, searching order of p and q for : {name}')\n",
    "        stepwise_model = auto_arima(train_df[name], d=0, start_p=1, start_q=1, max_p=4, max_q=4, seasonal=False,\n",
    "            trace=True,error_action='ignore',suppress_warnings=True, stepwise=True,maxiter=50)\n",
    "        parameter = stepwise_model.get_params().get('order')\n",
    "        print(f'optimal order for:{name} is: {parameter} \\n\\n')\n",
    "        pq.append(stepwise_model.get_params().get('order'))\n",
    "\n",
    "    # train VARMAX model with previously derived (p,q) values\n",
    "    # use the model which gives smallest MSE on the validation set\n",
    "    returns_mses, models = [], []\n",
    "    print('Grid Search Started')\n",
    "    start = time.time()\n",
    "    for i in pq:\n",
    "        if i[0]==0 and i[2]==0:\n",
    "            pass\n",
    "        else:\n",
    "            print(f' Running for {i}')\n",
    "            model = VARMAX(train_df, order=(i[0],i[2])).fit(disp=False)\n",
    "            models.append(model)\n",
    "            result = model.forecast(steps = val_df.shape[0]).reset_index(drop=True)\n",
    "            returns_mse = ((result['returns'] - val_df['returns'])**2).mean()\n",
    "            returns_mses.append(returns_mse)\n",
    "            print(f' MSE for returns is {returns_mse}')\n",
    "    end = time.time()\n",
    "    print(f' Total time taken to complete grid search in seconds: {(end - start)}')\n",
    "    print(f' Smallest MSE achieved at (p, d, q) values: {pq[np.argmin(returns_mses)]}')\n",
    "    model = models[np.argmin(returns_mses)]\n",
    "    pickle.dump(model, open('model.pkl', 'wb'))\n",
    "    return 'model.pkl'\n",
    "\n",
    "\n",
    "def modelForecast(testFilename, modelPath):\n",
    "    \"\"\"\n",
    "    Predict returns using a fitted model.\n",
    "\n",
    "    Args:\n",
    "        testFilename (str): path to test data. The data will be in\n",
    "            the same format as the supplied `data.csv` file\n",
    "        parameters (any): fitted model and any additional parameters\n",
    "            you need to make your forecasts\n",
    "\n",
    "    Returns:\n",
    "        forecast (np.array): vector of predictions. Make sure to\n",
    "            return a prediction for each data point in the test set\n",
    "\n",
    "    \"\"\"\n",
    "    test = pd.read_csv(testFilename)\n",
    "    model = pickle.load(open(modelPath, 'rb'))\n",
    "    # calculate the returns of X using the underlying method of calculating 'returns'\n",
    "    get_dates(test, 'timestamp')\n",
    "    test['xreturns'] = cal_returns(test, 'date', 'xprice')\n",
    "    test_df = test[['returns', 'xreturns']]\n",
    "    pred = model.forecast(steps = test_df.shape[0]).reset_index(drop=True)\n",
    "    return pred['returns']\n"
   ]
  },
  {
   "cell_type": "code",
   "execution_count": 8,
   "id": "7d4c28d8",
   "metadata": {},
   "outputs": [
    {
     "name": "stdout",
     "output_type": "stream",
     "text": [
      "The method to calculate xreturns seems to be the same as the underlying method to calculate returns.\n",
      "before testing\n",
      "The calculated xreturns passes the ADF test.\n",
      "The given returns passes the ADF test.\n",
      "after testing\n",
      "df defined\n",
      "The df [\"returns\", \"xreturns\"] passes the Johansen cointegration test.\n",
      "In auto_arima, searching order of p and q for : returns\n",
      "Performing stepwise search to minimize aic\n",
      " ARIMA(1,0,1)(0,0,0)[0]             : AIC=-1032919.491, Time=17.87 sec\n",
      " ARIMA(0,0,0)(0,0,0)[0]             : AIC=-156384.235, Time=7.11 sec\n",
      " ARIMA(1,0,0)(0,0,0)[0]             : AIC=-1032887.334, Time=13.07 sec\n",
      " ARIMA(0,0,1)(0,0,0)[0]             : AIC=-451543.512, Time=22.62 sec\n"
     ]
    },
    {
     "name": "stderr",
     "output_type": "stream",
     "text": [
      "/opt/anaconda3/envs/py37/lib/python3.7/site-packages/statsmodels/tsa/statespace/sarimax.py:1899: RuntimeWarning: invalid value encountered in reciprocal\n",
      "  return np.roots(self.polynomial_reduced_ar)**-1\n"
     ]
    },
    {
     "name": "stdout",
     "output_type": "stream",
     "text": [
      " ARIMA(2,0,1)(0,0,0)[0]             : AIC=-1032972.478, Time=9.49 sec\n",
      " ARIMA(2,0,0)(0,0,0)[0]             : AIC=-1032920.032, Time=18.25 sec\n",
      " ARIMA(3,0,1)(0,0,0)[0]             : AIC=-1032932.209, Time=19.45 sec\n",
      " ARIMA(2,0,2)(0,0,0)[0]             : AIC=-1032930.969, Time=26.04 sec\n",
      " ARIMA(1,0,2)(0,0,0)[0]             : AIC=-1032933.242, Time=23.82 sec\n",
      " ARIMA(3,0,0)(0,0,0)[0]             : AIC=-1032933.275, Time=20.57 sec\n",
      " ARIMA(3,0,2)(0,0,0)[0]             : AIC=inf, Time=166.35 sec\n"
     ]
    },
    {
     "name": "stderr",
     "output_type": "stream",
     "text": [
      "/opt/anaconda3/envs/py37/lib/python3.7/site-packages/statsmodels/tsa/statespace/sarimax.py:1899: RuntimeWarning: invalid value encountered in reciprocal\n",
      "  return np.roots(self.polynomial_reduced_ar)**-1\n"
     ]
    },
    {
     "name": "stdout",
     "output_type": "stream",
     "text": [
      " ARIMA(2,0,1)(0,0,0)[0] intercept   : AIC=-1032970.604, Time=24.61 sec\n",
      "\n",
      "Best model:  ARIMA(2,0,1)(0,0,0)[0]          \n",
      "Total fit time: 369.280 seconds\n",
      "optimal order for:returns is: (2, 0, 1) \n",
      "\n",
      "\n",
      "In auto_arima, searching order of p and q for : xreturns\n",
      "Performing stepwise search to minimize aic\n",
      " ARIMA(1,0,1)(0,0,0)[0]             : AIC=-1140867.579, Time=15.84 sec\n",
      " ARIMA(0,0,0)(0,0,0)[0]             : AIC=-282420.193, Time=7.42 sec\n",
      " ARIMA(1,0,0)(0,0,0)[0]             : AIC=-1140685.470, Time=13.56 sec\n",
      " ARIMA(0,0,1)(0,0,0)[0]             : AIC=-572922.649, Time=24.35 sec\n"
     ]
    },
    {
     "name": "stderr",
     "output_type": "stream",
     "text": [
      "/opt/anaconda3/envs/py37/lib/python3.7/site-packages/statsmodels/tsa/statespace/sarimax.py:1899: RuntimeWarning: invalid value encountered in reciprocal\n",
      "  return np.roots(self.polynomial_reduced_ar)**-1\n"
     ]
    },
    {
     "name": "stdout",
     "output_type": "stream",
     "text": [
      " ARIMA(2,0,1)(0,0,0)[0]             : AIC=-1140868.663, Time=21.53 sec\n",
      " ARIMA(2,0,0)(0,0,0)[0]             : AIC=-1140868.871, Time=16.04 sec\n",
      " ARIMA(3,0,0)(0,0,0)[0]             : AIC=-1140869.166, Time=21.96 sec\n",
      " ARIMA(4,0,0)(0,0,0)[0]             : AIC=-1140869.989, Time=26.31 sec\n",
      " ARIMA(5,0,0)(0,0,0)[0]             : AIC=-1140876.927, Time=30.07 sec\n",
      " ARIMA(6,0,0)(0,0,0)[0]             : AIC=-1140899.033, Time=41.53 sec\n",
      " ARIMA(7,0,0)(0,0,0)[0]             : AIC=-1140961.225, Time=46.35 sec\n",
      " ARIMA(7,0,1)(0,0,0)[0]             : AIC=-1140937.263, Time=40.93 sec\n",
      " ARIMA(6,0,1)(0,0,0)[0]             : AIC=-1140876.004, Time=51.22 sec\n",
      " ARIMA(7,0,0)(0,0,0)[0] intercept   : AIC=-1140961.228, Time=107.85 sec\n",
      " ARIMA(6,0,0)(0,0,0)[0] intercept   : AIC=-1140898.972, Time=92.73 sec\n",
      " ARIMA(7,0,1)(0,0,0)[0] intercept   : AIC=-1140937.235, Time=50.31 sec\n",
      " ARIMA(6,0,1)(0,0,0)[0] intercept   : AIC=-1140875.922, Time=41.47 sec\n",
      "\n",
      "Best model:  ARIMA(7,0,0)(0,0,0)[0] intercept\n",
      "Total fit time: 649.502 seconds\n",
      "optimal order for:xreturns is: (7, 0, 0) \n",
      "\n",
      "\n",
      "Grid Search Started\n",
      " Running for (2, 0, 1)\n"
     ]
    },
    {
     "name": "stderr",
     "output_type": "stream",
     "text": [
      "/opt/anaconda3/envs/py37/lib/python3.7/site-packages/statsmodels/tsa/statespace/varmax.py:163: EstimationWarning: Estimation of VARMA(p,q) models is not generically robust, due especially to identification issues.\n",
      "  EstimationWarning)\n"
     ]
    },
    {
     "name": "stdout",
     "output_type": "stream",
     "text": [
      " MSE for returns is nan\n",
      " Running for (7, 0, 0)\n",
      " MSE for returns is nan\n",
      " Total time taken to complete grid search in seconds: 497.84456992149353\n",
      " Smallest MSE achieved at (p, d, q) values: (2, 0, 1)\n"
     ]
    },
    {
     "data": {
      "text/plain": [
       "'model.pkl'"
      ]
     },
     "execution_count": 8,
     "metadata": {},
     "output_type": "execute_result"
    }
   ],
   "source": [
    "modelEstimate('train.csv')"
   ]
  },
  {
   "cell_type": "code",
   "execution_count": 26,
   "id": "9765f04c",
   "metadata": {},
   "outputs": [
    {
     "name": "stdout",
     "output_type": "stream",
     "text": [
      "The out-of-sample mean squared prediction error is  0.01829155203332383\n"
     ]
    }
   ],
   "source": [
    "test = pd.read_csv('test.csv')\n",
    "pred = modelForecast('test.csv', 'model.pkl')\n",
    "true = test['returns']\n",
    "print('The out-of-sample mean squared prediction error is ', ((pred-true)**2).mean())"
   ]
  },
  {
   "cell_type": "code",
   "execution_count": null,
   "id": "0890a58e",
   "metadata": {},
   "outputs": [],
   "source": []
  }
 ],
 "metadata": {
  "kernelspec": {
   "display_name": "Python 3",
   "language": "python",
   "name": "python3"
  },
  "language_info": {
   "codemirror_mode": {
    "name": "ipython",
    "version": 3
   },
   "file_extension": ".py",
   "mimetype": "text/x-python",
   "name": "python",
   "nbconvert_exporter": "python",
   "pygments_lexer": "ipython3",
   "version": "3.7.10"
  }
 },
 "nbformat": 4,
 "nbformat_minor": 5
}
